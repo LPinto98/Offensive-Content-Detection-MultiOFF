{
  "nbformat": 4,
  "nbformat_minor": 0,
  "metadata": {
    "colab": {
      "provenance": [],
      "gpuType": "T4"
    },
    "kernelspec": {
      "name": "python3",
      "display_name": "Python 3"
    },
    "language_info": {
      "name": "python"
    },
    "accelerator": "GPU"
  },
  "cells": [
    {
      "cell_type": "code",
      "execution_count": 2,
      "metadata": {
        "id": "C_VY80GRe09r"
      },
      "outputs": [],
      "source": [
        "import random\n",
        "import numpy as np\n",
        "import tensorflow as tf\n",
        "from sklearn.model_selection import train_test_split\n",
        "from sklearn.metrics import accuracy_score\n",
        "import os\n",
        "import pandas as pd\n",
        "from PIL import Image, ImageOps"
      ]
    },
    {
      "cell_type": "code",
      "source": [
        "!pip install transformers\n",
        "from transformers import XLNetTokenizer, TFXLNetModel"
      ],
      "metadata": {
        "colab": {
          "base_uri": "https://localhost:8080/"
        },
        "id": "yY7uPvwVhT6q",
        "outputId": "3df442f3-730e-4121-919c-50d6fb65a6f7"
      },
      "execution_count": 3,
      "outputs": [
        {
          "output_type": "stream",
          "name": "stdout",
          "text": [
            "Requirement already satisfied: transformers in /usr/local/lib/python3.10/dist-packages (4.33.1)\n",
            "Requirement already satisfied: filelock in /usr/local/lib/python3.10/dist-packages (from transformers) (3.12.2)\n",
            "Requirement already satisfied: huggingface-hub<1.0,>=0.15.1 in /usr/local/lib/python3.10/dist-packages (from transformers) (0.16.4)\n",
            "Requirement already satisfied: numpy>=1.17 in /usr/local/lib/python3.10/dist-packages (from transformers) (1.23.5)\n",
            "Requirement already satisfied: packaging>=20.0 in /usr/local/lib/python3.10/dist-packages (from transformers) (23.1)\n",
            "Requirement already satisfied: pyyaml>=5.1 in /usr/local/lib/python3.10/dist-packages (from transformers) (6.0.1)\n",
            "Requirement already satisfied: regex!=2019.12.17 in /usr/local/lib/python3.10/dist-packages (from transformers) (2023.6.3)\n",
            "Requirement already satisfied: requests in /usr/local/lib/python3.10/dist-packages (from transformers) (2.31.0)\n",
            "Requirement already satisfied: tokenizers!=0.11.3,<0.14,>=0.11.1 in /usr/local/lib/python3.10/dist-packages (from transformers) (0.13.3)\n",
            "Requirement already satisfied: safetensors>=0.3.1 in /usr/local/lib/python3.10/dist-packages (from transformers) (0.3.3)\n",
            "Requirement already satisfied: tqdm>=4.27 in /usr/local/lib/python3.10/dist-packages (from transformers) (4.66.1)\n",
            "Requirement already satisfied: fsspec in /usr/local/lib/python3.10/dist-packages (from huggingface-hub<1.0,>=0.15.1->transformers) (2023.6.0)\n",
            "Requirement already satisfied: typing-extensions>=3.7.4.3 in /usr/local/lib/python3.10/dist-packages (from huggingface-hub<1.0,>=0.15.1->transformers) (4.5.0)\n",
            "Requirement already satisfied: charset-normalizer<4,>=2 in /usr/local/lib/python3.10/dist-packages (from requests->transformers) (3.2.0)\n",
            "Requirement already satisfied: idna<4,>=2.5 in /usr/local/lib/python3.10/dist-packages (from requests->transformers) (3.4)\n",
            "Requirement already satisfied: urllib3<3,>=1.21.1 in /usr/local/lib/python3.10/dist-packages (from requests->transformers) (2.0.4)\n",
            "Requirement already satisfied: certifi>=2017.4.17 in /usr/local/lib/python3.10/dist-packages (from requests->transformers) (2023.7.22)\n"
          ]
        }
      ]
    },
    {
      "cell_type": "code",
      "source": [
        "!pip install efficientnet\n",
        "from efficientnet.tfkeras import EfficientNetB0"
      ],
      "metadata": {
        "colab": {
          "base_uri": "https://localhost:8080/"
        },
        "id": "oEnHNm_hhnXi",
        "outputId": "78656fef-6cfd-469e-af33-f29650da342e"
      },
      "execution_count": 4,
      "outputs": [
        {
          "output_type": "stream",
          "name": "stdout",
          "text": [
            "Requirement already satisfied: efficientnet in /usr/local/lib/python3.10/dist-packages (1.1.1)\n",
            "Requirement already satisfied: keras-applications<=1.0.8,>=1.0.7 in /usr/local/lib/python3.10/dist-packages (from efficientnet) (1.0.8)\n",
            "Requirement already satisfied: scikit-image in /usr/local/lib/python3.10/dist-packages (from efficientnet) (0.19.3)\n",
            "Requirement already satisfied: numpy>=1.9.1 in /usr/local/lib/python3.10/dist-packages (from keras-applications<=1.0.8,>=1.0.7->efficientnet) (1.23.5)\n",
            "Requirement already satisfied: h5py in /usr/local/lib/python3.10/dist-packages (from keras-applications<=1.0.8,>=1.0.7->efficientnet) (3.9.0)\n",
            "Requirement already satisfied: scipy>=1.4.1 in /usr/local/lib/python3.10/dist-packages (from scikit-image->efficientnet) (1.10.1)\n",
            "Requirement already satisfied: networkx>=2.2 in /usr/local/lib/python3.10/dist-packages (from scikit-image->efficientnet) (3.1)\n",
            "Requirement already satisfied: pillow!=7.1.0,!=7.1.1,!=8.3.0,>=6.1.0 in /usr/local/lib/python3.10/dist-packages (from scikit-image->efficientnet) (9.4.0)\n",
            "Requirement already satisfied: imageio>=2.4.1 in /usr/local/lib/python3.10/dist-packages (from scikit-image->efficientnet) (2.31.3)\n",
            "Requirement already satisfied: tifffile>=2019.7.26 in /usr/local/lib/python3.10/dist-packages (from scikit-image->efficientnet) (2023.8.30)\n",
            "Requirement already satisfied: PyWavelets>=1.1.1 in /usr/local/lib/python3.10/dist-packages (from scikit-image->efficientnet) (1.4.1)\n",
            "Requirement already satisfied: packaging>=20.0 in /usr/local/lib/python3.10/dist-packages (from scikit-image->efficientnet) (23.1)\n"
          ]
        }
      ]
    },
    {
      "cell_type": "code",
      "source": [
        "!pip install sentencepiece\n",
        "# Load XLNet model and tokenizer\n",
        "xlnet_model = TFXLNetModel.from_pretrained('xlnet-base-cased')\n",
        "xlnet_tokenizer = XLNetTokenizer.from_pretrained('xlnet-base-cased')"
      ],
      "metadata": {
        "colab": {
          "base_uri": "https://localhost:8080/"
        },
        "id": "6OF6SblUe9Wx",
        "outputId": "8cbc9e9e-b35a-4300-8986-42e63f7dfe6f"
      },
      "execution_count": 5,
      "outputs": [
        {
          "output_type": "stream",
          "name": "stdout",
          "text": [
            "Requirement already satisfied: sentencepiece in /usr/local/lib/python3.10/dist-packages (0.1.99)\n"
          ]
        },
        {
          "output_type": "stream",
          "name": "stderr",
          "text": [
            "/usr/local/lib/python3.10/dist-packages/keras/src/initializers/initializers.py:120: UserWarning: The initializer TruncatedNormal is unseeded and being called multiple times, which will return identical values each time (even if the initializer is unseeded). Please update your code to provide a seed to the initializer, or avoid using the same initializer instance more than once.\n",
            "  warnings.warn(\n",
            "Some layers from the model checkpoint at xlnet-base-cased were not used when initializing TFXLNetModel: ['lm_loss']\n",
            "- This IS expected if you are initializing TFXLNetModel from the checkpoint of a model trained on another task or with another architecture (e.g. initializing a BertForSequenceClassification model from a BertForPreTraining model).\n",
            "- This IS NOT expected if you are initializing TFXLNetModel from the checkpoint of a model that you expect to be exactly identical (initializing a BertForSequenceClassification model from a BertForSequenceClassification model).\n",
            "All the layers of TFXLNetModel were initialized from the model checkpoint at xlnet-base-cased.\n",
            "If your task is similar to the task the model of the checkpoint was trained on, you can already use TFXLNetModel for predictions without further training.\n"
          ]
        }
      ]
    },
    {
      "cell_type": "markdown",
      "source": [
        "Load EfficientNet model"
      ],
      "metadata": {
        "id": "RXRdBlss-CIS"
      }
    },
    {
      "cell_type": "code",
      "source": [
        "efficientnet_model = EfficientNetB0(weights='imagenet', include_top=False, input_shape=(224, 224, 3))"
      ],
      "metadata": {
        "id": "0ryfUe8fh2Iv"
      },
      "execution_count": 6,
      "outputs": []
    },
    {
      "cell_type": "code",
      "source": [
        "from google.colab import drive\n",
        "drive.mount('/content/drive/')"
      ],
      "metadata": {
        "colab": {
          "base_uri": "https://localhost:8080/"
        },
        "id": "bYuI6YMmlY0J",
        "outputId": "42ca436b-c55e-4cd5-bdd0-d5225a51511f"
      },
      "execution_count": 7,
      "outputs": [
        {
          "output_type": "stream",
          "name": "stdout",
          "text": [
            "Drive already mounted at /content/drive/; to attempt to forcibly remount, call drive.mount(\"/content/drive/\", force_remount=True).\n"
          ]
        }
      ]
    },
    {
      "cell_type": "code",
      "source": [
        "import shutil\n",
        "shutil.unpack_archive(\"/content/drive/MyDrive/MultiOFF_Dataset.zip\", \"/content/Datasets/\")"
      ],
      "metadata": {
        "id": "meejDaJenY-t"
      },
      "execution_count": 8,
      "outputs": []
    },
    {
      "cell_type": "code",
      "source": [
        "dataset_path = '/content/Datasets/MultiOFF_Dataset/Split Dataset'\n",
        "\n",
        "train_df = pd.read_csv(os.path.join(dataset_path, 'Training_meme_dataset.csv'))\n",
        "test_df = pd.read_csv(os.path.join(dataset_path, 'Testing_meme_dataset.csv'))\n",
        "val_df = pd.read_csv(os.path.join(dataset_path, 'Validation_meme_dataset.csv'))"
      ],
      "metadata": {
        "id": "pBhpq219ktgq"
      },
      "execution_count": 9,
      "outputs": []
    },
    {
      "cell_type": "code",
      "source": [
        "image_folder = '/content/Datasets/MultiOFF_Dataset/Labelled Images'\n",
        "train_df['image_name'] = train_df['image_name'].apply(lambda x: os.path.join(image_folder, x))\n",
        "test_df['image_name'] = test_df['image_name'].apply(lambda x: os.path.join(image_folder, x))\n",
        "val_df['image_name'] = val_df['image_name'].apply(lambda x: os.path.join(image_folder, x))"
      ],
      "metadata": {
        "id": "PkH4kuQFsmXB"
      },
      "execution_count": 10,
      "outputs": []
    },
    {
      "cell_type": "code",
      "source": [
        "train_df.head()"
      ],
      "metadata": {
        "colab": {
          "base_uri": "https://localhost:8080/",
          "height": 206
        },
        "id": "jOaYjiX0tLzk",
        "outputId": "99d63171-891e-4706-fb3a-8f4e8961c43d"
      },
      "execution_count": 11,
      "outputs": [
        {
          "output_type": "execute_result",
          "data": {
            "text/plain": [
              "                                          image_name  \\\n",
              "0  /content/Datasets/MultiOFF_Dataset/Labelled Im...   \n",
              "1  /content/Datasets/MultiOFF_Dataset/Labelled Im...   \n",
              "2  /content/Datasets/MultiOFF_Dataset/Labelled Im...   \n",
              "3  /content/Datasets/MultiOFF_Dataset/Labelled Im...   \n",
              "4  /content/Datasets/MultiOFF_Dataset/Labelled Im...   \n",
              "\n",
              "                                            sentence         label  \n",
              "0  OFFICIAL BERNIE SANDERS DRINKING GAME ! Every ...  Non-offensiv  \n",
              "1  2:28 PM THIS IS A WALL INSIDE A NAZI GAS CHAMB...     offensive  \n",
              "2                o shit waddup ! BERNIE SANDERS COM      offensive  \n",
              "3  `` MITT ROMNEY IS THE WORST REPUBLICAN IN THE ...  Non-offensiv  \n",
              "4  Anonymous ( ID : duqdA1io a 08/05/16 ( Fri ) 1...  Non-offensiv  "
            ],
            "text/html": [
              "\n",
              "  <div id=\"df-1d73499f-e0cc-4811-a67c-3f243a46060d\" class=\"colab-df-container\">\n",
              "    <div>\n",
              "<style scoped>\n",
              "    .dataframe tbody tr th:only-of-type {\n",
              "        vertical-align: middle;\n",
              "    }\n",
              "\n",
              "    .dataframe tbody tr th {\n",
              "        vertical-align: top;\n",
              "    }\n",
              "\n",
              "    .dataframe thead th {\n",
              "        text-align: right;\n",
              "    }\n",
              "</style>\n",
              "<table border=\"1\" class=\"dataframe\">\n",
              "  <thead>\n",
              "    <tr style=\"text-align: right;\">\n",
              "      <th></th>\n",
              "      <th>image_name</th>\n",
              "      <th>sentence</th>\n",
              "      <th>label</th>\n",
              "    </tr>\n",
              "  </thead>\n",
              "  <tbody>\n",
              "    <tr>\n",
              "      <th>0</th>\n",
              "      <td>/content/Datasets/MultiOFF_Dataset/Labelled Im...</td>\n",
              "      <td>OFFICIAL BERNIE SANDERS DRINKING GAME ! Every ...</td>\n",
              "      <td>Non-offensiv</td>\n",
              "    </tr>\n",
              "    <tr>\n",
              "      <th>1</th>\n",
              "      <td>/content/Datasets/MultiOFF_Dataset/Labelled Im...</td>\n",
              "      <td>2:28 PM THIS IS A WALL INSIDE A NAZI GAS CHAMB...</td>\n",
              "      <td>offensive</td>\n",
              "    </tr>\n",
              "    <tr>\n",
              "      <th>2</th>\n",
              "      <td>/content/Datasets/MultiOFF_Dataset/Labelled Im...</td>\n",
              "      <td>o shit waddup ! BERNIE SANDERS COM</td>\n",
              "      <td>offensive</td>\n",
              "    </tr>\n",
              "    <tr>\n",
              "      <th>3</th>\n",
              "      <td>/content/Datasets/MultiOFF_Dataset/Labelled Im...</td>\n",
              "      <td>`` MITT ROMNEY IS THE WORST REPUBLICAN IN THE ...</td>\n",
              "      <td>Non-offensiv</td>\n",
              "    </tr>\n",
              "    <tr>\n",
              "      <th>4</th>\n",
              "      <td>/content/Datasets/MultiOFF_Dataset/Labelled Im...</td>\n",
              "      <td>Anonymous ( ID : duqdA1io a 08/05/16 ( Fri ) 1...</td>\n",
              "      <td>Non-offensiv</td>\n",
              "    </tr>\n",
              "  </tbody>\n",
              "</table>\n",
              "</div>\n",
              "    <div class=\"colab-df-buttons\">\n",
              "\n",
              "  <div class=\"colab-df-container\">\n",
              "    <button class=\"colab-df-convert\" onclick=\"convertToInteractive('df-1d73499f-e0cc-4811-a67c-3f243a46060d')\"\n",
              "            title=\"Convert this dataframe to an interactive table.\"\n",
              "            style=\"display:none;\">\n",
              "\n",
              "  <svg xmlns=\"http://www.w3.org/2000/svg\" height=\"24px\" viewBox=\"0 -960 960 960\">\n",
              "    <path d=\"M120-120v-720h720v720H120Zm60-500h600v-160H180v160Zm220 220h160v-160H400v160Zm0 220h160v-160H400v160ZM180-400h160v-160H180v160Zm440 0h160v-160H620v160ZM180-180h160v-160H180v160Zm440 0h160v-160H620v160Z\"/>\n",
              "  </svg>\n",
              "    </button>\n",
              "\n",
              "  <style>\n",
              "    .colab-df-container {\n",
              "      display:flex;\n",
              "      gap: 12px;\n",
              "    }\n",
              "\n",
              "    .colab-df-convert {\n",
              "      background-color: #E8F0FE;\n",
              "      border: none;\n",
              "      border-radius: 50%;\n",
              "      cursor: pointer;\n",
              "      display: none;\n",
              "      fill: #1967D2;\n",
              "      height: 32px;\n",
              "      padding: 0 0 0 0;\n",
              "      width: 32px;\n",
              "    }\n",
              "\n",
              "    .colab-df-convert:hover {\n",
              "      background-color: #E2EBFA;\n",
              "      box-shadow: 0px 1px 2px rgba(60, 64, 67, 0.3), 0px 1px 3px 1px rgba(60, 64, 67, 0.15);\n",
              "      fill: #174EA6;\n",
              "    }\n",
              "\n",
              "    .colab-df-buttons div {\n",
              "      margin-bottom: 4px;\n",
              "    }\n",
              "\n",
              "    [theme=dark] .colab-df-convert {\n",
              "      background-color: #3B4455;\n",
              "      fill: #D2E3FC;\n",
              "    }\n",
              "\n",
              "    [theme=dark] .colab-df-convert:hover {\n",
              "      background-color: #434B5C;\n",
              "      box-shadow: 0px 1px 3px 1px rgba(0, 0, 0, 0.15);\n",
              "      filter: drop-shadow(0px 1px 2px rgba(0, 0, 0, 0.3));\n",
              "      fill: #FFFFFF;\n",
              "    }\n",
              "  </style>\n",
              "\n",
              "    <script>\n",
              "      const buttonEl =\n",
              "        document.querySelector('#df-1d73499f-e0cc-4811-a67c-3f243a46060d button.colab-df-convert');\n",
              "      buttonEl.style.display =\n",
              "        google.colab.kernel.accessAllowed ? 'block' : 'none';\n",
              "\n",
              "      async function convertToInteractive(key) {\n",
              "        const element = document.querySelector('#df-1d73499f-e0cc-4811-a67c-3f243a46060d');\n",
              "        const dataTable =\n",
              "          await google.colab.kernel.invokeFunction('convertToInteractive',\n",
              "                                                    [key], {});\n",
              "        if (!dataTable) return;\n",
              "\n",
              "        const docLinkHtml = 'Like what you see? Visit the ' +\n",
              "          '<a target=\"_blank\" href=https://colab.research.google.com/notebooks/data_table.ipynb>data table notebook</a>'\n",
              "          + ' to learn more about interactive tables.';\n",
              "        element.innerHTML = '';\n",
              "        dataTable['output_type'] = 'display_data';\n",
              "        await google.colab.output.renderOutput(dataTable, element);\n",
              "        const docLink = document.createElement('div');\n",
              "        docLink.innerHTML = docLinkHtml;\n",
              "        element.appendChild(docLink);\n",
              "      }\n",
              "    </script>\n",
              "  </div>\n",
              "\n",
              "\n",
              "<div id=\"df-13ebe8d3-f918-4ee0-8f9d-03f876ac6808\">\n",
              "  <button class=\"colab-df-quickchart\" onclick=\"quickchart('df-13ebe8d3-f918-4ee0-8f9d-03f876ac6808')\"\n",
              "            title=\"Suggest charts.\"\n",
              "            style=\"display:none;\">\n",
              "\n",
              "<svg xmlns=\"http://www.w3.org/2000/svg\" height=\"24px\"viewBox=\"0 0 24 24\"\n",
              "     width=\"24px\">\n",
              "    <g>\n",
              "        <path d=\"M19 3H5c-1.1 0-2 .9-2 2v14c0 1.1.9 2 2 2h14c1.1 0 2-.9 2-2V5c0-1.1-.9-2-2-2zM9 17H7v-7h2v7zm4 0h-2V7h2v10zm4 0h-2v-4h2v4z\"/>\n",
              "    </g>\n",
              "</svg>\n",
              "  </button>\n",
              "\n",
              "<style>\n",
              "  .colab-df-quickchart {\n",
              "      --bg-color: #E8F0FE;\n",
              "      --fill-color: #1967D2;\n",
              "      --hover-bg-color: #E2EBFA;\n",
              "      --hover-fill-color: #174EA6;\n",
              "      --disabled-fill-color: #AAA;\n",
              "      --disabled-bg-color: #DDD;\n",
              "  }\n",
              "\n",
              "  [theme=dark] .colab-df-quickchart {\n",
              "      --bg-color: #3B4455;\n",
              "      --fill-color: #D2E3FC;\n",
              "      --hover-bg-color: #434B5C;\n",
              "      --hover-fill-color: #FFFFFF;\n",
              "      --disabled-bg-color: #3B4455;\n",
              "      --disabled-fill-color: #666;\n",
              "  }\n",
              "\n",
              "  .colab-df-quickchart {\n",
              "    background-color: var(--bg-color);\n",
              "    border: none;\n",
              "    border-radius: 50%;\n",
              "    cursor: pointer;\n",
              "    display: none;\n",
              "    fill: var(--fill-color);\n",
              "    height: 32px;\n",
              "    padding: 0;\n",
              "    width: 32px;\n",
              "  }\n",
              "\n",
              "  .colab-df-quickchart:hover {\n",
              "    background-color: var(--hover-bg-color);\n",
              "    box-shadow: 0 1px 2px rgba(60, 64, 67, 0.3), 0 1px 3px 1px rgba(60, 64, 67, 0.15);\n",
              "    fill: var(--button-hover-fill-color);\n",
              "  }\n",
              "\n",
              "  .colab-df-quickchart-complete:disabled,\n",
              "  .colab-df-quickchart-complete:disabled:hover {\n",
              "    background-color: var(--disabled-bg-color);\n",
              "    fill: var(--disabled-fill-color);\n",
              "    box-shadow: none;\n",
              "  }\n",
              "\n",
              "  .colab-df-spinner {\n",
              "    border: 2px solid var(--fill-color);\n",
              "    border-color: transparent;\n",
              "    border-bottom-color: var(--fill-color);\n",
              "    animation:\n",
              "      spin 1s steps(1) infinite;\n",
              "  }\n",
              "\n",
              "  @keyframes spin {\n",
              "    0% {\n",
              "      border-color: transparent;\n",
              "      border-bottom-color: var(--fill-color);\n",
              "      border-left-color: var(--fill-color);\n",
              "    }\n",
              "    20% {\n",
              "      border-color: transparent;\n",
              "      border-left-color: var(--fill-color);\n",
              "      border-top-color: var(--fill-color);\n",
              "    }\n",
              "    30% {\n",
              "      border-color: transparent;\n",
              "      border-left-color: var(--fill-color);\n",
              "      border-top-color: var(--fill-color);\n",
              "      border-right-color: var(--fill-color);\n",
              "    }\n",
              "    40% {\n",
              "      border-color: transparent;\n",
              "      border-right-color: var(--fill-color);\n",
              "      border-top-color: var(--fill-color);\n",
              "    }\n",
              "    60% {\n",
              "      border-color: transparent;\n",
              "      border-right-color: var(--fill-color);\n",
              "    }\n",
              "    80% {\n",
              "      border-color: transparent;\n",
              "      border-right-color: var(--fill-color);\n",
              "      border-bottom-color: var(--fill-color);\n",
              "    }\n",
              "    90% {\n",
              "      border-color: transparent;\n",
              "      border-bottom-color: var(--fill-color);\n",
              "    }\n",
              "  }\n",
              "</style>\n",
              "\n",
              "  <script>\n",
              "    async function quickchart(key) {\n",
              "      const quickchartButtonEl =\n",
              "        document.querySelector('#' + key + ' button');\n",
              "      quickchartButtonEl.disabled = true;  // To prevent multiple clicks.\n",
              "      quickchartButtonEl.classList.add('colab-df-spinner');\n",
              "      try {\n",
              "        const charts = await google.colab.kernel.invokeFunction(\n",
              "            'suggestCharts', [key], {});\n",
              "      } catch (error) {\n",
              "        console.error('Error during call to suggestCharts:', error);\n",
              "      }\n",
              "      quickchartButtonEl.classList.remove('colab-df-spinner');\n",
              "      quickchartButtonEl.classList.add('colab-df-quickchart-complete');\n",
              "    }\n",
              "    (() => {\n",
              "      let quickchartButtonEl =\n",
              "        document.querySelector('#df-13ebe8d3-f918-4ee0-8f9d-03f876ac6808 button');\n",
              "      quickchartButtonEl.style.display =\n",
              "        google.colab.kernel.accessAllowed ? 'block' : 'none';\n",
              "    })();\n",
              "  </script>\n",
              "</div>\n",
              "    </div>\n",
              "  </div>\n"
            ]
          },
          "metadata": {},
          "execution_count": 11
        }
      ]
    },
    {
      "cell_type": "code",
      "source": [
        "from tensorflow.keras.applications.efficientnet import preprocess_input\n",
        "import cv2\n",
        "\n",
        "def preprocess_image(image):\n",
        "    target_size = (224, 224)\n",
        "\n",
        "    # Resize the image\n",
        "    if isinstance(target_size, tuple) and len(target_size) == 2 and target_size[0] > 0 and target_size[1] > 0:\n",
        "        if image.shape[:2] != target_size:\n",
        "            image_resized = cv2.resize(image, target_size)\n",
        "        else:\n",
        "            image_resized = image\n",
        "\n",
        "    # Ensure the image has 3 channels\n",
        "    if len(image_resized.shape) == 2:\n",
        "        image_resized = cv2.cvtColor(image_resized, cv2.COLOR_GRAY2RGB)\n",
        "    elif image_resized.shape[2] == 4:\n",
        "        image_resized = image_resized[:, :, :3]  # Keep only the first 3 channels\n",
        "\n",
        "    # Apply preprocessing specific to EfficientNet\n",
        "    preprocessed_image = preprocess_input(image_resized)\n",
        "\n",
        "    return preprocessed_image\n"
      ],
      "metadata": {
        "id": "2HRWE8V1dVbp"
      },
      "execution_count": 12,
      "outputs": []
    },
    {
      "cell_type": "code",
      "source": [
        "def load_images_from_df(df):\n",
        "    image_samples = []\n",
        "\n",
        "    for image_name in df['image_name']:\n",
        "        image = Image.open(image_name)\n",
        "        image_array = np.array(image)  # Convert Image to numpy array\n",
        "        preprocessed_image = preprocess_image(image_array)\n",
        "        image_samples.append(preprocessed_image)\n",
        "\n",
        "    return image_samples"
      ],
      "metadata": {
        "id": "PH9mVX0StnLW"
      },
      "execution_count": 13,
      "outputs": []
    },
    {
      "cell_type": "code",
      "source": [
        "image_train = load_images_from_df(train_df)\n",
        "image_test = load_images_from_df(test_df)\n",
        "image_val = load_images_from_df(val_df)"
      ],
      "metadata": {
        "id": "WPaydIC4uLYx"
      },
      "execution_count": 14,
      "outputs": []
    },
    {
      "cell_type": "code",
      "source": [
        "import tensorflow as tf\n",
        "from tensorflow.keras.models import Sequential\n",
        "from tensorflow.keras.layers import Dense, Dropout, Flatten, Conv2D, MaxPooling2D, Input\n",
        "from tensorflow.keras.optimizers import Adam\n",
        "\n",
        "def build_model(hp):\n",
        "    # Create a Sequential model\n",
        "    model = Sequential()\n",
        "\n",
        "    # Hyperparameter: Number of convolutional layers\n",
        "    num_conv_layers = hp.Int('num_conv_layers', min_value=1, max_value=4, step=1)\n",
        "\n",
        "    # Add convolutional layers\n",
        "    for i in range(num_conv_layers):\n",
        "        model.add(Conv2D(\n",
        "            filters=hp.Int(f'conv_{i}_filters', min_value=16, max_value=128, step=16),\n",
        "            kernel_size=hp.Choice(f'conv_{i}_kernel_size', values=[3, 5]),\n",
        "            activation='relu',\n",
        "            padding='same'\n",
        "        ))\n",
        "        model.add(MaxPooling2D(pool_size=(2, 2)))\n",
        "\n",
        "    # Flatten the feature maps\n",
        "    model.add(Flatten())\n",
        "\n",
        "    # Hyperparameter: Number of dense layers\n",
        "    num_dense_layers = hp.Int('num_dense_layers', min_value=1, max_value=3, step=1)\n",
        "\n",
        "    # Add dense layers\n",
        "    for i in range(num_dense_layers):\n",
        "        model.add(Dense(\n",
        "            units=hp.Int(f'dense_{i}_units', min_value=32, max_value=512, step=32),\n",
        "            activation='relu'\n",
        "        ))\n",
        "        model.add(Dropout(rate=hp.Float(f'dense_{i}_dropout', min_value=0.0, max_value=0.5, step=0.1)))\n",
        "\n",
        "    # Output layer\n",
        "    model.add(Dense(1, activation='sigmoid'))  # Assuming binary classification\n",
        "\n",
        "    # Hyperparameter: Learning rate\n",
        "    learning_rate = hp.Choice('learning_rate', values=[1e-2, 1e-3, 1e-4])\n",
        "\n",
        "    # Compile the model\n",
        "    model.compile(\n",
        "        optimizer=Adam(learning_rate),\n",
        "        loss='binary_crossentropy',  # Assuming binary classification\n",
        "        metrics=['accuracy']\n",
        "    )\n",
        "\n",
        "    return model"
      ],
      "metadata": {
        "id": "In7dD_FtT6I9"
      },
      "execution_count": 15,
      "outputs": []
    },
    {
      "cell_type": "code",
      "source": [
        "text_train = train_df['sentence'].tolist()\n",
        "text_test = test_df['sentence'].tolist()\n",
        "text_val = val_df['sentence'].tolist()\n",
        "len(text_train)"
      ],
      "metadata": {
        "colab": {
          "base_uri": "https://localhost:8080/"
        },
        "id": "6IRCt0176Jo3",
        "outputId": "787d530f-12e3-4215-f351-df3823b48a4d"
      },
      "execution_count": 16,
      "outputs": [
        {
          "output_type": "execute_result",
          "data": {
            "text/plain": [
              "445"
            ]
          },
          "metadata": {},
          "execution_count": 16
        }
      ]
    },
    {
      "cell_type": "code",
      "source": [
        "labels_train = train_df['label'].values\n",
        "labels_test = test_df['label'].values\n",
        "labels_val = val_df['label'].values"
      ],
      "metadata": {
        "id": "au3rYqpf6V7-"
      },
      "execution_count": 17,
      "outputs": []
    },
    {
      "cell_type": "code",
      "source": [
        "label_mapping = {'Non-offensiv': 0, 'offensive': 1}\n",
        "labels_train = np.array([label_mapping[label] for label in labels_train])\n",
        "labels_test = np.array([label_mapping[label] for label in labels_test])\n",
        "labels_val = np.array([label_mapping[label] for label in labels_val])"
      ],
      "metadata": {
        "id": "w12y53aO51C3"
      },
      "execution_count": 18,
      "outputs": []
    },
    {
      "cell_type": "code",
      "source": [
        "!pip install nlpaug"
      ],
      "metadata": {
        "colab": {
          "base_uri": "https://localhost:8080/"
        },
        "id": "4GUMmyuC0YzB",
        "outputId": "a973ce72-a021-4e9d-a2b4-9c9bbc011683"
      },
      "execution_count": 19,
      "outputs": [
        {
          "output_type": "stream",
          "name": "stdout",
          "text": [
            "Requirement already satisfied: nlpaug in /usr/local/lib/python3.10/dist-packages (1.1.11)\n",
            "Requirement already satisfied: numpy>=1.16.2 in /usr/local/lib/python3.10/dist-packages (from nlpaug) (1.23.5)\n",
            "Requirement already satisfied: pandas>=1.2.0 in /usr/local/lib/python3.10/dist-packages (from nlpaug) (1.5.3)\n",
            "Requirement already satisfied: requests>=2.22.0 in /usr/local/lib/python3.10/dist-packages (from nlpaug) (2.31.0)\n",
            "Requirement already satisfied: gdown>=4.0.0 in /usr/local/lib/python3.10/dist-packages (from nlpaug) (4.6.6)\n",
            "Requirement already satisfied: filelock in /usr/local/lib/python3.10/dist-packages (from gdown>=4.0.0->nlpaug) (3.12.2)\n",
            "Requirement already satisfied: six in /usr/local/lib/python3.10/dist-packages (from gdown>=4.0.0->nlpaug) (1.16.0)\n",
            "Requirement already satisfied: tqdm in /usr/local/lib/python3.10/dist-packages (from gdown>=4.0.0->nlpaug) (4.66.1)\n",
            "Requirement already satisfied: beautifulsoup4 in /usr/local/lib/python3.10/dist-packages (from gdown>=4.0.0->nlpaug) (4.11.2)\n",
            "Requirement already satisfied: python-dateutil>=2.8.1 in /usr/local/lib/python3.10/dist-packages (from pandas>=1.2.0->nlpaug) (2.8.2)\n",
            "Requirement already satisfied: pytz>=2020.1 in /usr/local/lib/python3.10/dist-packages (from pandas>=1.2.0->nlpaug) (2023.3.post1)\n",
            "Requirement already satisfied: charset-normalizer<4,>=2 in /usr/local/lib/python3.10/dist-packages (from requests>=2.22.0->nlpaug) (3.2.0)\n",
            "Requirement already satisfied: idna<4,>=2.5 in /usr/local/lib/python3.10/dist-packages (from requests>=2.22.0->nlpaug) (3.4)\n",
            "Requirement already satisfied: urllib3<3,>=1.21.1 in /usr/local/lib/python3.10/dist-packages (from requests>=2.22.0->nlpaug) (2.0.4)\n",
            "Requirement already satisfied: certifi>=2017.4.17 in /usr/local/lib/python3.10/dist-packages (from requests>=2.22.0->nlpaug) (2023.7.22)\n",
            "Requirement already satisfied: soupsieve>1.2 in /usr/local/lib/python3.10/dist-packages (from beautifulsoup4->gdown>=4.0.0->nlpaug) (2.5)\n",
            "Requirement already satisfied: PySocks!=1.5.7,>=1.5.6 in /usr/local/lib/python3.10/dist-packages (from requests>=2.22.0->nlpaug) (1.7.1)\n"
          ]
        }
      ]
    },
    {
      "cell_type": "code",
      "source": [
        "# Import the necessary library\n",
        "import nlpaug.augmenter.word as naw\n",
        "# Define a function for text data augmentation\n",
        "def augment_text_data(text_data):\n",
        "    # Initialize the augmentation object\n",
        "    aug = naw.SynonymAug(aug_src='wordnet')\n",
        "    return aug.augment(text_data)\n"
      ],
      "metadata": {
        "id": "eKHyDOsazxZn"
      },
      "execution_count": 20,
      "outputs": []
    },
    {
      "cell_type": "code",
      "source": [
        "from tensorflow.keras.preprocessing.image import ImageDataGenerator"
      ],
      "metadata": {
        "id": "llFs5eqp51X2"
      },
      "execution_count": 21,
      "outputs": []
    },
    {
      "cell_type": "code",
      "source": [
        "image_data_generator = ImageDataGenerator(\n",
        "    rotation_range=8,      # Random rotation (degrees)\n",
        "    width_shift_range=0.2,  # Random horizontal shift\n",
        "    height_shift_range=0.2, # Random vertical shift\n",
        "    shear_range=0.2,        # Shear intensity\n",
        "    zoom_range=0.1,         # Random zoom\n",
        "    horizontal_flip=True,   # Random horizontal flip\n",
        "    fill_mode='nearest'     # Fill mode for filling in newly created pixels\n",
        ")"
      ],
      "metadata": {
        "id": "WZCOVJwM55If"
      },
      "execution_count": 22,
      "outputs": []
    },
    {
      "cell_type": "code",
      "source": [],
      "metadata": {
        "id": "WD30RtQI7ZgS"
      },
      "execution_count": 22,
      "outputs": []
    },
    {
      "cell_type": "code",
      "source": [
        "augmented_image = []\n",
        "for image_data in image_train:\n",
        "    image_data = image_data_generator.random_transform(image_data)"
      ],
      "metadata": {
        "id": "k8VwyA-v6Eie"
      },
      "execution_count": 23,
      "outputs": []
    },
    {
      "cell_type": "code",
      "source": [
        "augmented_text = []\n",
        "augmented_image = []\n",
        "max_seq_length = 128\n",
        "\n",
        "for i in range(len(text_train)):\n",
        "    swapped_idx = random.randint(0, len(text_train) - 1)\n",
        "    text_train[i] = augment_text_data(text_train[i])\n",
        "    # Tokenize and limit sequence length for text data\n",
        "    tokens = xlnet_tokenizer(text_train[i], truncation=True, padding='max_length', max_length=max_seq_length)\n",
        "    augmented_text.append(tokens)\n",
        "\n",
        "    # Preprocess the image\n",
        "    preprocessed_image = preprocess_image(image_train[swapped_idx])\n",
        "    augmented_image.append(preprocessed_image)\n",
        "\n",
        "# Combine the tokenized sequences into single strings\n",
        "augmented_text = [' '.join(tokens) for tokens in augmented_text]\n",
        "\n",
        "# Tokenize and encode the augmented text data using the XLNet tokenizer\n",
        "text_encodings = xlnet_tokenizer(augmented_text, padding=True, truncation=True, return_tensors='tf')\n",
        "\n",
        "# Get the input IDs for the text data\n",
        "input_ids = text_encodings['input_ids']\n",
        "attention_mask = text_encodings['attention_mask']\n",
        "\n",
        "# Generate embeddings for text data\n",
        "text_embeddings = xlnet_model(input_ids, attention_mask=attention_mask)[\"last_hidden_state\"]\n"
      ],
      "metadata": {
        "id": "bpoxzb7IXWkh",
        "colab": {
          "base_uri": "https://localhost:8080/"
        },
        "outputId": "fd25b470-8178-4179-f27f-3352a82b0fb6"
      },
      "execution_count": 24,
      "outputs": [
        {
          "output_type": "stream",
          "name": "stderr",
          "text": [
            "Asking to truncate to max_length but no maximum length is provided and the model has no predefined maximum length. Default to no truncation.\n"
          ]
        }
      ]
    },
    {
      "cell_type": "code",
      "source": [
        "batch_size = 8  # Adjust this for RAM usage\n",
        "num_samples = len(augmented_text)\n",
        "num_batches = (num_samples + batch_size - 1) // batch_size"
      ],
      "metadata": {
        "id": "UkhW-RfxOvz0"
      },
      "execution_count": 25,
      "outputs": []
    },
    {
      "cell_type": "code",
      "source": [
        "# Convert image data to TensorFlow tensor\n",
        "# Ensure all images have the same dimensions\n",
        "# augmented_image = [img for img in augmented_image if img.shape == (224, 224, 3)]\n",
        "\n",
        "# Convert the list of images to a 4D NumPy array\n",
        "image_data = np.stack(augmented_image)\n",
        "\n",
        "# Convert the NumPy array to a TensorFlow tensor\n",
        "image_data = tf.convert_to_tensor(image_data, dtype=tf.float32)\n",
        "# image_data = tf.convert_to_tensor(image_data, dtype=tf.float32)"
      ],
      "metadata": {
        "id": "w-80CX9dY2su"
      },
      "execution_count": 26,
      "outputs": []
    },
    {
      "cell_type": "code",
      "source": [
        "image_data.shape"
      ],
      "metadata": {
        "colab": {
          "base_uri": "https://localhost:8080/"
        },
        "id": "RGEAwK0J5Qgy",
        "outputId": "c19417bc-dafc-41f8-c0e2-e7f4eee65420"
      },
      "execution_count": 27,
      "outputs": [
        {
          "output_type": "execute_result",
          "data": {
            "text/plain": [
              "TensorShape([445, 224, 224, 3])"
            ]
          },
          "metadata": {},
          "execution_count": 27
        }
      ]
    },
    {
      "cell_type": "code",
      "source": [
        "# Process image data through EfficientNet\n",
        "image_embeddings = efficientnet_model.predict(image_data)"
      ],
      "metadata": {
        "id": "x0t0r8gc8Apz",
        "colab": {
          "base_uri": "https://localhost:8080/"
        },
        "outputId": "4ea9d915-ac15-4c9f-c446-9383ca8717f0"
      },
      "execution_count": 28,
      "outputs": [
        {
          "output_type": "stream",
          "name": "stdout",
          "text": [
            "14/14 [==============================] - 11s 118ms/step\n"
          ]
        }
      ]
    },
    {
      "cell_type": "code",
      "source": [
        "image_embeddings.shape"
      ],
      "metadata": {
        "colab": {
          "base_uri": "https://localhost:8080/"
        },
        "id": "aq5Ysw2T30rE",
        "outputId": "732d1e70-cef6-4403-ee48-c346a3ef12b6"
      },
      "execution_count": 29,
      "outputs": [
        {
          "output_type": "execute_result",
          "data": {
            "text/plain": [
              "(445, 7, 7, 1280)"
            ]
          },
          "metadata": {},
          "execution_count": 29
        }
      ]
    },
    {
      "cell_type": "code",
      "source": [
        "len(text_embeddings)"
      ],
      "metadata": {
        "colab": {
          "base_uri": "https://localhost:8080/"
        },
        "id": "wqG3Gg319bTd",
        "outputId": "b85e7de2-e9f8-41e5-8bf5-dc92957695cb"
      },
      "execution_count": 30,
      "outputs": [
        {
          "output_type": "execute_result",
          "data": {
            "text/plain": [
              "445"
            ]
          },
          "metadata": {},
          "execution_count": 30
        }
      ]
    },
    {
      "cell_type": "code",
      "source": [
        "len(image_embeddings)"
      ],
      "metadata": {
        "colab": {
          "base_uri": "https://localhost:8080/"
        },
        "id": "qSRbwMxn9dSo",
        "outputId": "3c58e9af-8d33-47d3-b021-09f8387e24a7"
      },
      "execution_count": 31,
      "outputs": [
        {
          "output_type": "execute_result",
          "data": {
            "text/plain": [
              "445"
            ]
          },
          "metadata": {},
          "execution_count": 31
        }
      ]
    },
    {
      "cell_type": "code",
      "source": [
        "text_embeddings.shape"
      ],
      "metadata": {
        "colab": {
          "base_uri": "https://localhost:8080/"
        },
        "id": "jzGMsSzp9jIE",
        "outputId": "004c0460-975f-42dd-cf3f-b160d175ac3b"
      },
      "execution_count": 32,
      "outputs": [
        {
          "output_type": "execute_result",
          "data": {
            "text/plain": [
              "TensorShape([445, 14, 768])"
            ]
          },
          "metadata": {},
          "execution_count": 32
        }
      ]
    },
    {
      "cell_type": "code",
      "source": [
        "from tensorflow.keras.layers import Dense\n",
        "\n",
        "# Add a Dense layer to reduce the dimensionality of text embeddings\n",
        "text_embeddings = Dense(62720, activation='relu')(text_embeddings)\n"
      ],
      "metadata": {
        "id": "aM2ltVn25BD5"
      },
      "execution_count": 33,
      "outputs": []
    },
    {
      "cell_type": "code",
      "source": [
        "# ... (previous parts of your code)\n",
        "\n",
        "# Flatten the image embeddings\n",
        "flattened_image_embeddings = tf.keras.layers.Flatten()(image_embeddings)\n",
        "# Flatten the text embeddings\n",
        "flattened_text_embeddings = tf.keras.layers.Flatten()(text_embeddings)\n",
        "\n",
        "# Concatenate the flattened text embeddings with the flattened image embeddings\n",
        "combined_embeddings = tf.concat([flattened_text_embeddings, flattened_image_embeddings], axis=1)"
      ],
      "metadata": {
        "id": "nY8Kba_q8FU1"
      },
      "execution_count": 34,
      "outputs": []
    },
    {
      "cell_type": "code",
      "source": [
        "image_embeddings.shape"
      ],
      "metadata": {
        "colab": {
          "base_uri": "https://localhost:8080/"
        },
        "id": "HMT5dRY0Dfb-",
        "outputId": "73e2fdff-7c21-4de9-bec5-232cd0bd3752"
      },
      "execution_count": 35,
      "outputs": [
        {
          "output_type": "execute_result",
          "data": {
            "text/plain": [
              "(445, 7, 7, 1280)"
            ]
          },
          "metadata": {},
          "execution_count": 35
        }
      ]
    },
    {
      "cell_type": "code",
      "source": [
        "text_embeddings.shape"
      ],
      "metadata": {
        "colab": {
          "base_uri": "https://localhost:8080/"
        },
        "id": "fDfUAwvvDlJj",
        "outputId": "958d5e58-caad-45fd-bbd2-cf204dbce674"
      },
      "execution_count": 36,
      "outputs": [
        {
          "output_type": "execute_result",
          "data": {
            "text/plain": [
              "TensorShape([445, 14, 62720])"
            ]
          },
          "metadata": {},
          "execution_count": 36
        }
      ]
    },
    {
      "cell_type": "code",
      "source": [
        "combined_embeddings.shape"
      ],
      "metadata": {
        "colab": {
          "base_uri": "https://localhost:8080/"
        },
        "id": "ci5nVHTkDseE",
        "outputId": "daf6e12b-dd6b-4e1c-c8eb-85ed86e958e7"
      },
      "execution_count": 37,
      "outputs": [
        {
          "output_type": "execute_result",
          "data": {
            "text/plain": [
              "TensorShape([445, 940800])"
            ]
          },
          "metadata": {},
          "execution_count": 37
        }
      ]
    },
    {
      "cell_type": "code",
      "source": [
        "from tensorflow.keras.layers import Input, Dense, Flatten, Concatenate\n",
        "from tensorflow.keras.models import Model\n",
        "\n",
        "# Create a Keras model for the image branch\n",
        "image_input = Input(shape=(7, 7, 1280), name='image_input')\n",
        "image_flattened = Flatten()(image_input)\n",
        "image_dense = Dense(128, activation='relu')(image_flattened)\n",
        "\n",
        "# Create a Keras model for the text branch\n",
        "main_input = Input(shape=(10, 62720), dtype='float32', name='main_input')  # Adjust input shape\n",
        "text_flattened = Flatten()(main_input)\n",
        "text_dense = Dense(128, activation='relu')(text_flattened)\n",
        "\n",
        "# Combine the text and image models\n",
        "combined_features = Concatenate()([text_dense, image_dense])\n",
        "combined_dense = Dense(128, activation='relu')(combined_features)\n",
        "combined_final_output = Dense(1, activation='sigmoid')(combined_dense)\n",
        "\n",
        "# Create the final model\n",
        "combined_model = Model(inputs=[main_input, image_input], outputs=combined_final_output)\n",
        "\n",
        "# Compile the model\n",
        "combined_model.compile(optimizer='adam', loss='binary_crossentropy', metrics=['accuracy'])\n",
        "\n",
        "# Print the summary of the model\n",
        "combined_model.summary()"
      ],
      "metadata": {
        "colab": {
          "base_uri": "https://localhost:8080/"
        },
        "id": "PM9G8XQrU9Ck",
        "outputId": "957ee9ab-34b3-4190-f44d-1b9fcd63dfea"
      },
      "execution_count": 38,
      "outputs": [
        {
          "output_type": "stream",
          "name": "stdout",
          "text": [
            "Model: \"model\"\n",
            "__________________________________________________________________________________________________\n",
            " Layer (type)                Output Shape                 Param #   Connected to                  \n",
            "==================================================================================================\n",
            " main_input (InputLayer)     [(None, 10, 62720)]          0         []                            \n",
            "                                                                                                  \n",
            " image_input (InputLayer)    [(None, 7, 7, 1280)]         0         []                            \n",
            "                                                                                                  \n",
            " flatten_3 (Flatten)         (None, 627200)               0         ['main_input[0][0]']          \n",
            "                                                                                                  \n",
            " flatten_2 (Flatten)         (None, 62720)                0         ['image_input[0][0]']         \n",
            "                                                                                                  \n",
            " dense_2 (Dense)             (None, 128)                  8028172   ['flatten_3[0][0]']           \n",
            "                                                          8                                       \n",
            "                                                                                                  \n",
            " dense_1 (Dense)             (None, 128)                  8028288   ['flatten_2[0][0]']           \n",
            "                                                                                                  \n",
            " concatenate (Concatenate)   (None, 256)                  0         ['dense_2[0][0]',             \n",
            "                                                                     'dense_1[0][0]']             \n",
            "                                                                                                  \n",
            " dense_3 (Dense)             (None, 128)                  32896     ['concatenate[0][0]']         \n",
            "                                                                                                  \n",
            " dense_4 (Dense)             (None, 1)                    129       ['dense_3[0][0]']             \n",
            "                                                                                                  \n",
            "==================================================================================================\n",
            "Total params: 88343041 (337.00 MB)\n",
            "Trainable params: 88343041 (337.00 MB)\n",
            "Non-trainable params: 0 (0.00 Byte)\n",
            "__________________________________________________________________________________________________\n"
          ]
        }
      ]
    },
    {
      "cell_type": "code",
      "source": [
        "labels_train"
      ],
      "metadata": {
        "colab": {
          "base_uri": "https://localhost:8080/"
        },
        "id": "AG_G29Qg5F1x",
        "outputId": "8244f819-7426-4c02-a6c7-ea1b554ebe1b"
      },
      "execution_count": 39,
      "outputs": [
        {
          "output_type": "execute_result",
          "data": {
            "text/plain": [
              "array([0, 1, 1, 0, 0, 1, 1, 1, 0, 1, 1, 1, 0, 1, 0, 0, 1, 1, 1, 0, 0, 0,\n",
              "       1, 0, 1, 0, 0, 0, 0, 0, 1, 1, 0, 0, 0, 1, 1, 0, 0, 1, 1, 0, 1, 0,\n",
              "       0, 0, 1, 0, 0, 1, 0, 0, 1, 1, 1, 1, 0, 1, 0, 0, 0, 1, 0, 0, 0, 0,\n",
              "       0, 1, 0, 0, 0, 1, 1, 0, 1, 0, 0, 0, 0, 0, 1, 1, 1, 0, 0, 0, 0, 0,\n",
              "       1, 0, 0, 1, 1, 0, 0, 0, 0, 0, 0, 0, 1, 0, 0, 0, 0, 0, 1, 0, 1, 1,\n",
              "       0, 1, 1, 0, 1, 0, 1, 1, 0, 0, 0, 1, 0, 0, 1, 1, 0, 1, 0, 0, 1, 1,\n",
              "       0, 0, 0, 0, 0, 0, 0, 1, 0, 1, 0, 1, 1, 0, 0, 1, 1, 1, 1, 0, 0, 0,\n",
              "       1, 0, 0, 0, 0, 0, 1, 0, 0, 0, 1, 0, 0, 0, 0, 0, 0, 1, 0, 1, 1, 0,\n",
              "       0, 1, 0, 0, 0, 0, 0, 0, 0, 0, 1, 1, 0, 0, 1, 0, 0, 0, 1, 0, 0, 1,\n",
              "       0, 0, 1, 1, 1, 0, 1, 1, 0, 1, 0, 1, 0, 1, 1, 1, 0, 1, 1, 0, 0, 1,\n",
              "       0, 0, 1, 0, 0, 1, 0, 1, 1, 0, 0, 0, 0, 0, 1, 1, 0, 1, 0, 0, 0, 0,\n",
              "       1, 0, 1, 1, 1, 0, 0, 1, 0, 0, 1, 0, 0, 0, 0, 1, 0, 1, 0, 1, 0, 0,\n",
              "       0, 1, 0, 1, 1, 1, 1, 0, 0, 0, 0, 0, 0, 0, 0, 0, 1, 1, 0, 1, 1, 0,\n",
              "       1, 0, 0, 1, 0, 0, 0, 0, 1, 0, 0, 1, 1, 1, 0, 1, 0, 0, 0, 0, 1, 0,\n",
              "       0, 1, 1, 0, 0, 1, 1, 0, 1, 0, 1, 1, 0, 0, 1, 0, 0, 0, 1, 0, 1, 0,\n",
              "       0, 0, 1, 1, 1, 0, 1, 0, 0, 1, 0, 0, 0, 0, 0, 1, 0, 1, 0, 0, 1, 1,\n",
              "       0, 0, 0, 1, 1, 0, 1, 0, 0, 0, 1, 0, 0, 1, 1, 0, 0, 1, 0, 1, 1, 0,\n",
              "       0, 1, 0, 0, 0, 1, 1, 0, 0, 1, 0, 1, 0, 1, 0, 1, 0, 0, 1, 1, 0, 1,\n",
              "       1, 0, 0, 1, 1, 1, 0, 0, 1, 0, 1, 1, 1, 1, 1, 0, 0, 1, 0, 0, 1, 1,\n",
              "       1, 1, 0, 0, 1, 1, 0, 0, 1, 0, 1, 1, 1, 1, 0, 0, 1, 1, 1, 1, 1, 0,\n",
              "       0, 0, 0, 1, 1])"
            ]
          },
          "metadata": {},
          "execution_count": 39
        }
      ]
    },
    {
      "cell_type": "code",
      "source": [
        "import tensorflow as tf\n",
        "# Splitting the data using indices\n",
        "indices = np.arange(len(text_embeddings))\n",
        "indices_train, indices_val, _, _ = train_test_split(\n",
        "    indices, labels_train, test_size=0.2, random_state=42\n",
        ")\n",
        "# Convert NumPy arrays to TensorFlow tensors\n",
        "indices_train_tf = tf.convert_to_tensor(indices_train)\n",
        "indices_val_tf = tf.convert_to_tensor(indices_val)\n",
        "\n",
        "X_train_text = tf.gather(text_embeddings, indices_train_tf)\n",
        "X_val_text = tf.gather(text_embeddings, indices_val_tf)\n",
        "X_train_img = tf.gather(image_embeddings, indices_train_tf)\n",
        "X_val_img = tf.gather(image_embeddings, indices_val_tf)\n",
        "y_train = tf.gather(labels_train, indices_train_tf)\n",
        "y_val = tf.gather(labels_train, indices_val_tf)"
      ],
      "metadata": {
        "id": "XARing16bdhR"
      },
      "execution_count": 40,
      "outputs": []
    },
    {
      "cell_type": "code",
      "source": [
        "from tensorflow.keras.preprocessing.sequence import pad_sequences\n",
        "\n",
        "# Pad the text data to have a sequence length of 10\n",
        "X_train_text_padded = pad_sequences(X_train_text, maxlen=10, padding='post', truncating='post', dtype='float32')\n",
        "X_val_text_padded = pad_sequences(X_val_text, maxlen=10, padding='post', truncating='post', dtype='float32')"
      ],
      "metadata": {
        "id": "P7Zd-Pr4QKWz"
      },
      "execution_count": 41,
      "outputs": []
    },
    {
      "cell_type": "code",
      "source": [
        "from tensorflow.keras.callbacks import EarlyStopping, ModelCheckpoint\n",
        "\n",
        "# Define early stopping callback\n",
        "early_stopping = EarlyStopping(\n",
        "    monitor='val_loss',  # Monitor validation loss\n",
        "    patience=6,           # Number of epochs with no improvement after which training will be stopped\n",
        "    restore_best_weights=True  # Restore the model weights from the epoch with the best validation loss\n",
        ")\n",
        "\n",
        "# Define a model checkpoint callback to save the best model during training\n",
        "model_checkpoint = ModelCheckpoint(\n",
        "    'best_model.h5',        # Filepath to save the best model\n",
        "    monitor='val_loss',     # Monitor validation loss\n",
        "    save_best_only=True,    # Save only the best model\n",
        "    verbose=1                # Verbosity mode, 1 for progress bar\n",
        ")"
      ],
      "metadata": {
        "id": "x0NMg7Kln-m4"
      },
      "execution_count": 42,
      "outputs": []
    },
    {
      "cell_type": "code",
      "source": [
        "# Define your class weights\n",
        "class_weight = {1: 1.4, 0: 1.}\n"
      ],
      "metadata": {
        "id": "yFTqnozME2As"
      },
      "execution_count": 43,
      "outputs": []
    },
    {
      "cell_type": "code",
      "source": [
        "history = combined_model.fit(\n",
        "        [X_train_text_padded, X_train_img],\n",
        "        y_train,\n",
        "        batch_size=batch_size,\n",
        "        epochs=1,  # Only one epoch per iteration\n",
        "        validation_data=([X_val_text_padded, X_val_img], y_val),\n",
        "        class_weight=class_weight,\n",
        "        callbacks=[early_stopping, model_checkpoint]\n",
        "    )\n",
        "\n",
        "    # ... Additional training loop logic ...\n"
      ],
      "metadata": {
        "colab": {
          "base_uri": "https://localhost:8080/"
        },
        "id": "huaQYKjuoHl0",
        "outputId": "5553c3a7-0fcf-4125-ba11-431838e076fe"
      },
      "execution_count": 44,
      "outputs": [
        {
          "output_type": "stream",
          "name": "stdout",
          "text": [
            "45/45 [==============================] - ETA: 0s - loss: 1592.0504 - accuracy: 0.4719\n",
            "Epoch 1: val_loss improved from inf to 600.54742, saving model to best_model.h5\n"
          ]
        },
        {
          "output_type": "stream",
          "name": "stderr",
          "text": [
            "/usr/local/lib/python3.10/dist-packages/keras/src/engine/training.py:3000: UserWarning: You are saving your model as an HDF5 file via `model.save()`. This file format is considered legacy. We recommend using instead the native Keras format, e.g. `model.save('my_model.keras')`.\n",
            "  saving_api.save_model(\n"
          ]
        },
        {
          "output_type": "stream",
          "name": "stdout",
          "text": [
            "\b\b\b\b\b\b\b\b\b\b\b\b\b\b\b\b\b\b\b\b\b\b\b\b\b\b\b\b\b\b\b\b\b\b\b\b\b\b\b\b\b\b\b\b\b\b\b\b\b\b\b\b\b\b\b\b\b\b\b\b\b\b\b\b\b\b\b\b\b\b\b\b\b\b\b\b\b\b\b\b\b\b\b\b\b\r45/45 [==============================] - 16s 267ms/step - loss: 1592.0504 - accuracy: 0.4719 - val_loss: 600.5474 - val_accuracy: 0.5169\n"
          ]
        }
      ]
    },
    {
      "cell_type": "code",
      "source": [
        "# Tokenize and encode the test texts\n",
        "test_encodings = xlnet_tokenizer(text_test, truncation=True, padding=True, return_tensors='tf')\n",
        "\n",
        "# Get the input IDs for the test data\n",
        "input_ids_test = test_encodings['input_ids']\n",
        "image_test = np.array(image_test)\n",
        "print(\"Image type:\", type(image_test))\n",
        "print(\"Image shape:\", image_test.shape)\n",
        "preprocessed_images = []\n",
        "\n",
        "for image_data in image_test:\n",
        "    preprocessed_image = preprocess_image(image_data)\n",
        "    preprocessed_images.append(preprocessed_image)\n",
        "\n",
        "# Convert the list of preprocessed images to a NumPy array\n",
        "preprocessed_images = np.array(preprocessed_images)\n",
        "# Ensure that X_test_text has the same shape as expected by the model (sequence length of 10 and embedding size of 62720)\n",
        "# You can pad or truncate as needed\n",
        "if input_ids_test.shape[1] < 10:\n",
        "    padding_size = 10 - input_ids_test.shape[1]\n",
        "    input_ids_test = np.pad(input_ids_test, ((0, 0), (0, padding_size)), mode='constant')\n",
        "elif input_ids_test.shape[1] > 10:\n",
        "    input_ids_test = input_ids_test[:, :10]\n",
        "# Now, you can use preprocessed_images for prediction with your EfficientNet model\n",
        "X_test_img = efficientnet_model.predict(preprocessed_images)\n",
        "X_test_text = xlnet_model.predict(input_ids_test)[0]  # Assuming the model returns a tuple and we want the first element\n",
        "print(\"X_test_text shape:\", X_test_text.shape)\n",
        "print(\"X_test_img shape:\", X_test_img.shape)"
      ],
      "metadata": {
        "colab": {
          "base_uri": "https://localhost:8080/"
        },
        "id": "aj3uRpsWOoOA",
        "outputId": "574a478e-74a2-45b5-e3b1-073b05852179"
      },
      "execution_count": 45,
      "outputs": [
        {
          "output_type": "stream",
          "name": "stdout",
          "text": [
            "Image type: <class 'numpy.ndarray'>\n",
            "Image shape: (149, 224, 224, 3)\n",
            "5/5 [==============================] - 3s 251ms/step\n",
            "5/5 [==============================] - 7s 53ms/step\n",
            "X_test_text shape: (149, 10, 768)\n",
            "X_test_img shape: (149, 7, 7, 1280)\n"
          ]
        }
      ]
    },
    {
      "cell_type": "code",
      "source": [
        "import numpy as np\n",
        "\n",
        "# Assuming X_test_text has shape (None, 10, 768)\n",
        "desired_shape = (X_test_text.shape[0], 10, 62720)\n",
        "\n",
        "# Pad with zeros if the shape is smaller, or truncate if larger\n",
        "if X_test_text.shape[2] < desired_shape[2]:\n",
        "    padding = np.zeros((desired_shape[0], 10, desired_shape[2] - X_test_text.shape[2]))\n",
        "    X_test_text_padded = np.concatenate((X_test_text, padding), axis=2)\n",
        "elif X_test_text.shape[2] > desired_shape[2]:\n",
        "    X_test_text_padded = X_test_text[:, :, :desired_shape[2]]\n",
        "else:\n",
        "    X_test_text_padded = X_test_text  # No need to pad or truncate\n",
        "\n",
        "X_test_text_padded.shape"
      ],
      "metadata": {
        "colab": {
          "base_uri": "https://localhost:8080/"
        },
        "id": "779P2iGwWNZc",
        "outputId": "73940e36-bde6-4a37-9d3e-76d8f6cc4df7"
      },
      "execution_count": 46,
      "outputs": [
        {
          "output_type": "execute_result",
          "data": {
            "text/plain": [
              "(149, 10, 62720)"
            ]
          },
          "metadata": {},
          "execution_count": 46
        }
      ]
    },
    {
      "cell_type": "code",
      "source": [
        "from tensorflow.keras.models import load_model\n",
        "\n",
        "# Load the best model\n",
        "best_model = load_model('best_model.h5')"
      ],
      "metadata": {
        "id": "Hhkp_GP0pO1x"
      },
      "execution_count": 47,
      "outputs": []
    },
    {
      "cell_type": "code",
      "source": [
        "test_predictions = best_model.predict([X_test_text_padded, X_test_img])"
      ],
      "metadata": {
        "colab": {
          "base_uri": "https://localhost:8080/"
        },
        "id": "FarZxgBz5Ok2",
        "outputId": "7fa48d7d-0473-4e9e-cf34-0e25cfa4f1d1"
      },
      "execution_count": 48,
      "outputs": [
        {
          "output_type": "stream",
          "name": "stdout",
          "text": [
            "5/5 [==============================] - 0s 38ms/step\n"
          ]
        }
      ]
    },
    {
      "cell_type": "code",
      "source": [
        "threshold = 0.6\n",
        "binary_predictions = (test_predictions > threshold).astype(int)"
      ],
      "metadata": {
        "id": "1EHMoF_p6kVz"
      },
      "execution_count": 49,
      "outputs": []
    },
    {
      "cell_type": "code",
      "source": [
        "from sklearn.metrics import accuracy_score\n",
        "\n",
        "# Assuming labels_test contains the true labels for your test data\n",
        "accuracy = accuracy_score(labels_test, binary_predictions)\n",
        "print(\"Test Accuracy:\", accuracy)"
      ],
      "metadata": {
        "colab": {
          "base_uri": "https://localhost:8080/"
        },
        "id": "-xpRce8P6pie",
        "outputId": "22cb668f-02c0-4164-e64f-eb6d4f69b652"
      },
      "execution_count": 50,
      "outputs": [
        {
          "output_type": "stream",
          "name": "stdout",
          "text": [
            "Test Accuracy: 0.5838926174496645\n"
          ]
        }
      ]
    },
    {
      "cell_type": "code",
      "source": [
        "from sklearn.metrics import precision_score, recall_score\n",
        "\n",
        "precision = precision_score(labels_test, binary_predictions)\n",
        "recall = recall_score(labels_test, binary_predictions)\n",
        "\n",
        "print(\"Precision:\", precision)\n",
        "print(\"Recall:\", recall)"
      ],
      "metadata": {
        "colab": {
          "base_uri": "https://localhost:8080/"
        },
        "id": "VjXOZ8ll7SyD",
        "outputId": "ade8f3ef-93ec-40ff-99f3-4f8df1eb1b33"
      },
      "execution_count": 51,
      "outputs": [
        {
          "output_type": "stream",
          "name": "stdout",
          "text": [
            "Precision: 0.4230769230769231\n",
            "Recall: 0.1896551724137931\n"
          ]
        }
      ]
    },
    {
      "cell_type": "code",
      "source": [
        "from sklearn.metrics import f1_score\n",
        "\n",
        "f1 = f1_score(labels_test, binary_predictions)\n",
        "print(\"F1-Score:\", f1)"
      ],
      "metadata": {
        "colab": {
          "base_uri": "https://localhost:8080/"
        },
        "id": "qQW_thqH7YKQ",
        "outputId": "ebd066d2-c3fd-4db1-9c8b-237f1cb20d74"
      },
      "execution_count": 52,
      "outputs": [
        {
          "output_type": "stream",
          "name": "stdout",
          "text": [
            "F1-Score: 0.2619047619047619\n"
          ]
        }
      ]
    },
    {
      "cell_type": "code",
      "source": [
        "from sklearn.metrics import confusion_matrix\n",
        "\n",
        "cm = confusion_matrix(labels_test, binary_predictions)\n",
        "print(\"Confusion Matrix:\\n\", cm)\n"
      ],
      "metadata": {
        "colab": {
          "base_uri": "https://localhost:8080/"
        },
        "id": "tqn6qR_c7iaA",
        "outputId": "4c3c7aa0-2118-49f7-8a0b-24a2a58116b9"
      },
      "execution_count": 53,
      "outputs": [
        {
          "output_type": "stream",
          "name": "stdout",
          "text": [
            "Confusion Matrix:\n",
            " [[76 15]\n",
            " [47 11]]\n"
          ]
        }
      ]
    },
    {
      "cell_type": "code",
      "source": [
        "from sklearn.metrics import roc_curve, roc_auc_score\n",
        "import matplotlib.pyplot as plt\n",
        "\n",
        "fpr, tpr, thresholds = roc_curve(labels_test, test_predictions)\n",
        "auc = roc_auc_score(labels_test, test_predictions)\n",
        "\n",
        "# Plot ROC curve\n",
        "plt.figure(figsize=(8, 6))\n",
        "plt.plot(fpr, tpr, label=f'AUC = {auc:.2f}')\n",
        "plt.xlabel('False Positive Rate')\n",
        "plt.ylabel('True Positive Rate')\n",
        "plt.title('ROC Curve')\n",
        "plt.legend()\n",
        "plt.show()\n",
        "\n",
        "print(\"AUC:\", auc)\n"
      ],
      "metadata": {
        "colab": {
          "base_uri": "https://localhost:8080/",
          "height": 581
        },
        "id": "9TPl-1BD7kQM",
        "outputId": "4bc4dd73-24f3-44b4-cef4-ad776a9fbc37"
      },
      "execution_count": 54,
      "outputs": [
        {
          "output_type": "display_data",
          "data": {
            "text/plain": [
              "<Figure size 800x600 with 1 Axes>"
            ],
            "image/png": "[encoded data removed]"
          },
          "metadata": {}
        },
        {
          "output_type": "stream",
          "name": "stdout",
          "text": [
            "AUC: 0.49185297461159533\n"
          ]
        }
      ]
    }
  ]
}